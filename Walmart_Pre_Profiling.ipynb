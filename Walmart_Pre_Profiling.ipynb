{
  "nbformat": 4,
  "nbformat_minor": 0,
  "metadata": {
    "colab": {
      "provenance": [],
      "authorship_tag": "ABX9TyP0pjEXqkcEHw977ctXy1B4",
      "include_colab_link": true
    },
    "kernelspec": {
      "name": "python3",
      "display_name": "Python 3"
    },
    "language_info": {
      "name": "python"
    }
  },
  "cells": [
    {
      "cell_type": "markdown",
      "metadata": {
        "id": "view-in-github",
        "colab_type": "text"
      },
      "source": [
        "<a href=\"https://colab.research.google.com/github/Nikhil07-source/Exploratory-Data-Analysis_EDA/blob/main/Walmart_Pre_Profiling.ipynb\" target=\"_parent\"><img src=\"https://colab.research.google.com/assets/colab-badge.svg\" alt=\"Open In Colab\"/></a>"
      ]
    },
    {
      "cell_type": "markdown",
      "source": [
        "###Pre Profiling"
      ],
      "metadata": {
        "id": "5TshWq21DvLy"
      }
    },
    {
      "cell_type": "markdown",
      "source": [
        "- By pandas profiling, an __interactive HTML report__ gets generated which contins all the information about the columns of the dataset, like the __counts and type__ of each _column_. Detailed information about each column, __coorelation between different columns__ and a sample of dataset.<br/>\n",
        "- It gives us __visual interpretation__ of each column in the data.\n",
        "- _Spread of the data_ can be better understood by the distribution plot.\n",
        "- _Grannular level_ analysis of each column."
      ],
      "metadata": {
        "id": "iv9vBm9kERlG"
      }
    },
    {
      "cell_type": "code",
      "execution_count": null,
      "metadata": {
        "id": "-h6iMQBVDFrs"
      },
      "outputs": [],
      "source": [
        "#Getting Pandas Profiling Report\n",
        "!pip install https://github.com/ydataai/pandas-profiling/archive/master.zip"
      ]
    },
    {
      "cell_type": "code",
      "source": [
        "#Importing Libraries\n",
        "!pip install ydata-profiling\n",
        "from ydata_profiling import ProfileReport  #importing pandas preprofiling\n",
        "import pandas as pd"
      ],
      "metadata": {
        "id": "s5uFNMbIDwzD"
      },
      "execution_count": null,
      "outputs": []
    },
    {
      "cell_type": "code",
      "source": [
        "df = pd.read_csv(\"https://raw.githubusercontent.com/Nikhil07-source/Datasets/refs/heads/main/Walmart_Store_sales.csv\")  #Getting dataset from Github Raw url.\n",
        "df #getting dataset, we shall use print() for getting output, but this tabular structure of dataset looks good."
      ],
      "metadata": {
        "id": "sqNekkH4D7P-"
      },
      "execution_count": null,
      "outputs": []
    },
    {
      "cell_type": "code",
      "source": [
        "profile = ProfileReport(df, title=\"Walmart Dataset Profile\")\n",
        "profile.to_file(output_file=\"walmart_before_processing.html\")"
      ],
      "metadata": {
        "id": "LwyJuIYpGTIC"
      },
      "execution_count": null,
      "outputs": []
    },
    {
      "cell_type": "markdown",
      "source": [
        "- __ProfileReport__: This is the main function from the pandas_profiling library that generates the report.\n",
        "- __df__: This is the DataFrame containing the Titanic dataset that we want to analyze.\n",
        "- __title__: This parameter allows us to set a custom title for the report, which in this case is \"Titanic Dataset Profile\".\n",
        "- __profile__: This is an instance of the ProfileReport class created from a pandas DataFrame.\n",
        "- __to_file()__: This method is used to write the profiling report to a specified output file.\n",
        "- __output_file__: This parameter specifies the name of the file where the report will be saved.</br></br>\n",
        "\n",
        "Here, we have done Pandas Profiling before preprocessing our dataset, so we have named the html file as __titanic_before_preprocessing.html__.</br>Take a look at the file and see what useful insight you can develop from it.\n",
        "Now we will process our data to better understand it."
      ],
      "metadata": {
        "id": "YHv8zKqEGqBL"
      }
    },
    {
      "cell_type": "code",
      "source": [
        "profile.to_notebook_iframe()"
      ],
      "metadata": {
        "id": "TpqXG6gMGfAr"
      },
      "execution_count": null,
      "outputs": []
    },
    {
      "cell_type": "markdown",
      "source": [
        "#Please click on Collab URL in top left corner to see the output as well."
      ],
      "metadata": {
        "id": "H3gZa-NYHSxk"
      }
    },
    {
      "cell_type": "code",
      "source": [],
      "metadata": {
        "id": "i1JzbSLpHeKH"
      },
      "execution_count": null,
      "outputs": []
    }
  ]
}